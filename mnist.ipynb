{
 "cells": [
  {
   "cell_type": "markdown",
   "metadata": {},
   "source": [
    "# Exercise 9\n",
    "\n",
    "Train an SVM classifier on the MNIST dataset. Since SVM classifiers are binary classifiers, you will need to use one-versus-the-rest to classify all 10 digits. You may want to tune the hyperparameters using small validation sets to speed up the process. What accuracy can you reach?"
   ]
  },
  {
   "cell_type": "code",
   "execution_count": 8,
   "metadata": {},
   "outputs": [],
   "source": [
    "import h5py\n",
    "import numpy as np\n",
    "\n",
    "f = h5py.File(\"data.h5\", \"r\")\n",
    "X_train = np.array(f[\"X_train\"])\n",
    "y_train = np.array(f[\"y_train\"])\n",
    "\n",
    "X_val = np.array(f[\"X_val\"])\n",
    "y_val = np.array(f[\"y_val\"])\n",
    "\n",
    "X_test = np.array(f[\"X_test\"])\n",
    "y_test = np.array(f[\"y_test\"])\n",
    "\n",
    "f.close()"
   ]
  },
  {
   "cell_type": "code",
   "execution_count": 9,
   "metadata": {},
   "outputs": [
    {
     "name": "stdout",
     "output_type": "stream",
     "text": [
      "(50000, 784) (50000,)\n",
      "(10000, 784) (10000,)\n",
      "(10000, 784) (10000,)\n"
     ]
    }
   ],
   "source": [
    "print(X_train.shape, y_train.shape)\n",
    "print(X_val.shape, y_val.shape)\n",
    "print(X_test.shape, y_test.shape)"
   ]
  },
  {
   "cell_type": "code",
   "execution_count": 10,
   "metadata": {},
   "outputs": [],
   "source": [
    "from sklearn import pipeline\n",
    "from sklearn import preprocessing\n",
    "from sklearn import svm\n",
    "\n",
    "classifier = svm.SVC()\n",
    "\n",
    "model = pipeline.Pipeline([\n",
    "    (\"scaler\", preprocessing.StandardScaler()),\n",
    "    (\"classifier\", classifier)\n",
    "])"
   ]
  },
  {
   "cell_type": "code",
   "execution_count": 11,
   "metadata": {},
   "outputs": [
    {
     "data": {
      "text/plain": [
       "Pipeline(steps=[('scaler', StandardScaler()), ('classifier', SVC())])"
      ]
     },
     "execution_count": 11,
     "metadata": {},
     "output_type": "execute_result"
    }
   ],
   "source": [
    "model.fit(X_train, y_train)"
   ]
  },
  {
   "cell_type": "code",
   "execution_count": 12,
   "metadata": {},
   "outputs": [],
   "source": [
    "from sklearn import metrics\n",
    "\n",
    "y_pred = model.predict(X_val)"
   ]
  },
  {
   "cell_type": "code",
   "execution_count": 14,
   "metadata": {},
   "outputs": [
    {
     "name": "stdout",
     "output_type": "stream",
     "text": [
      "              precision    recall  f1-score   support\n",
      "\n",
      "           0       0.99      0.98      0.98       960\n",
      "           1       0.98      0.98      0.98      1122\n",
      "           2       0.95      0.96      0.96      1020\n",
      "           3       0.97      0.95      0.96      1055\n",
      "           4       0.96      0.97      0.97       961\n",
      "           5       0.97      0.94      0.95       906\n",
      "           6       0.97      0.97      0.97       973\n",
      "           7       0.93      0.97      0.95      1117\n",
      "           8       0.96      0.96      0.96       938\n",
      "           9       0.96      0.95      0.96       948\n",
      "\n",
      "    accuracy                           0.96     10000\n",
      "   macro avg       0.96      0.96      0.96     10000\n",
      "weighted avg       0.96      0.96      0.96     10000\n",
      "\n",
      "[[ 939    0    2    0    1    4    7    3    4    0]\n",
      " [   1 1102    5    0    2    0    2    5    1    4]\n",
      " [   2    3  984    5    3    0    4   13    6    0]\n",
      " [   0    3   15 1003    1    8    0   15   10    0]\n",
      " [   0    1    4    0  929    2    4    6    2   13]\n",
      " [   5    2    1   14    1  851   11   12    5    4]\n",
      " [   1    0   10    0    4    5  941    8    4    0]\n",
      " [   2    4    9    1    7    0    0 1081    1   12]\n",
      " [   1    4    3    8    3    7    4    5  899    4]\n",
      " [   1    0    1    8   13    1    0   19    4  901]]\n"
     ]
    },
    {
     "data": {
      "image/png": "[encoded data removed]",
      "text/plain": [
       "<Figure size 432x288 with 2 Axes>"
      ]
     },
     "metadata": {
      "needs_background": "light"
     },
     "output_type": "display_data"
    }
   ],
   "source": [
    "import matplotlib.pyplot as plt\n",
    "\n",
    "print(metrics.classification_report(y_val, y_pred))\n",
    "confusion = metrics.confusion_matrix(y_val, y_pred)\n",
    "\n",
    "disp = metrics.ConfusionMatrixDisplay(confusion)\n",
    "disp.plot()\n",
    "plt.show()"
   ]
  }
 ],
 "metadata": {
  "interpreter": {
   "hash": "a30e0490f14c14e683b1f3aa7ed469f594afd3caabcc706ece959eacedcaf29c"
  },
  "kernelspec": {
   "display_name": "Python 3.7.9 64-bit",
   "language": "python",
   "name": "python3"
  },
  "language_info": {
   "codemirror_mode": {
    "name": "ipython",
    "version": 3
   },
   "file_extension": ".py",
   "mimetype": "text/x-python",
   "name": "python",
   "nbconvert_exporter": "python",
   "pygments_lexer": "ipython3",
   "version": "3.7.9"
  },
  "orig_nbformat": 4
 },
 "nbformat": 4,
 "nbformat_minor": 2
}
